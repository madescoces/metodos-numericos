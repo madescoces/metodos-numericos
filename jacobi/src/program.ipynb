{
 "cells": [
  {
   "cell_type": "code",
   "execution_count": 21,
   "metadata": {},
   "outputs": [],
   "source": [
    "import sys\n",
    "sys.path.append(r'D:\\Usuario\\Pablo\\Escritorio\\workspace\\metodos_numericos')\n",
    "\n",
    "from modulos.menu import menu\n",
    "import numpy as np"
   ]
  },
  {
   "cell_type": "code",
   "execution_count": 22,
   "metadata": {},
   "outputs": [
    {
     "name": "stdout",
     "output_type": "stream",
     "text": [
      "\n",
      "\t\t████████████████████████████████████████████████████████████████████████████████████████████████████\n",
      "\t\t███                                                                                              ███\n",
      "\t\t███            Metodo Jacobi que resuelve ecuaciones lineales con una matriz de N X N            ███\n",
      "\t\t███                                                                                              ███\n",
      "\t\t███               Integrantes: Sol Lopez, Pablo Foglia, Juan Caceffo, Alejo Menini               ███\n",
      "\t\t███                                                                                              ███\n",
      "\t\t████████████████████████████████████████████████████████████████████████████████████████████████████\n",
      "\n",
      "\n",
      "\n"
     ]
    }
   ],
   "source": [
    "menu(\"Metodo Jacobi que resuelve ecuaciones lineales con una matriz de N X N\")\n"
   ]
  },
  {
   "cell_type": "markdown",
   "metadata": {},
   "source": [
    "## Crear la matriz en la siguiente celda"
   ]
  },
  {
   "cell_type": "code",
   "execution_count": 23,
   "metadata": {},
   "outputs": [],
   "source": [
    "matriz = np.array([[3, 4, -2],\n",
    "                   [2, -3, 4],\n",
    "                   [1, -2, 3]])\n",
    "vector = np.array([-2, 6, 7])\n",
    "\n",
    "matriz2 = np.array([[1, 1, -2], \n",
    "                    [1, -4, 1], \n",
    "                    [0, 2, -3]])\n",
    "vector2 = np.array([11, 0, -3])"
   ]
  },
  {
   "cell_type": "code",
   "execution_count": 24,
   "metadata": {},
   "outputs": [
    {
     "name": "stdout",
     "output_type": "stream",
     "text": [
      "Determinante: 8.999999999999998\n",
      "Matriz triangular:\n",
      "[[ 1  1 -2]\n",
      " [ 0 -4  1]\n",
      " [ 0  0 -3]]\n",
      "Vector triangular:\n",
      "[17 -3  9]\n"
     ]
    }
   ],
   "source": [
    "def calcular_determinante(matriz, vector_resultados):\n",
    "    det = np.linalg.det(matriz)\n",
    "    if det == 0:\n",
    "        print(\"La matriz no tiene solución única.\")\n",
    "    else:\n",
    "        matriz_triangular, vector_triangular = triangular_matriz(matriz, vector_resultados)\n",
    "        print(\"Determinante:\", det)\n",
    "        print(\"Matriz triangular:\")\n",
    "        print(matriz_triangular)\n",
    "        print(\"Vector triangular:\")\n",
    "        print(vector_triangular)\n",
    "\n",
    "def triangular_matriz(matriz, vector_resultados):\n",
    "    matriz_triangular = np.triu(matriz)\n",
    "    vector_triangular = np.dot(matriz_triangular, vector_resultados)\n",
    "    return matriz_triangular, vector_triangular\n",
    "\n",
    "triangulada = calcular_determinante(matriz2, vector2)\n",
    "triangulada"
   ]
  },
  {
   "cell_type": "code",
   "execution_count": null,
   "metadata": {},
   "outputs": [],
   "source": []
  }
 ],
 "metadata": {
  "kernelspec": {
   "display_name": "Python 3.10.7 64-bit",
   "language": "python",
   "name": "python3"
  },
  "language_info": {
   "codemirror_mode": {
    "name": "ipython",
    "version": 3
   },
   "file_extension": ".py",
   "mimetype": "text/x-python",
   "name": "python",
   "nbconvert_exporter": "python",
   "pygments_lexer": "ipython3",
   "version": "3.10.7"
  },
  "orig_nbformat": 4,
  "vscode": {
   "interpreter": {
    "hash": "bb63a77499ed5899fffa71b49f0fc3f4df2c625891c3993c985b13a523c87e61"
   }
  }
 },
 "nbformat": 4,
 "nbformat_minor": 2
}
