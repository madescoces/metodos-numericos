{
 "cells": [
  {
   "cell_type": "code",
   "execution_count": 1,
   "metadata": {},
   "outputs": [],
   "source": [
    "import numpy as np\n",
    "import sympy as sp\n",
    "import math as m\n",
    "import matplotlib.pyplot as plt\n",
    "from helpers import *"
   ]
  },
  {
   "cell_type": "code",
   "execution_count": 2,
   "metadata": {},
   "outputs": [
    {
     "data": {
      "text/plain": [
       "4"
      ]
     },
     "execution_count": 2,
     "metadata": {},
     "output_type": "execute_result"
    }
   ],
   "source": [
    "Presicion().cambiarPresicionRepresentacion(0.0001)\n",
    "Presicion.presicionActual()"
   ]
  },
  {
   "cell_type": "code",
   "execution_count": 3,
   "metadata": {},
   "outputs": [],
   "source": [
    "def decimal_truncate(numero, decimales):\n",
    "    if (decimales < 0): raise Exception(\"el N° de decimales a truncar debe ser positivo\")\n",
    "    factor = 10.0 ** decimales\n",
    "    return m.trunc(numero * factor) / factor\n"
   ]
  },
  {
   "cell_type": "code",
   "execution_count": 4,
   "metadata": {},
   "outputs": [],
   "source": [
    "#funcion que ingresa los decimales exactos\n",
    "def decExactos_a_tolerancia(exactitud):\n",
    "    if (exactitud < 0): raise Exception(\"La exactitud debe ser positiva o 0\")\n",
    "    #scamos el valor de paradad dada la exactitud\n",
    "    tolerancia = \"0.\"\n",
    "    #agregamos tantos 0 como exactitud indicada\n",
    "    for i in range(exactitud): tolerancia += \"0\"\n",
    "    #agregamos un uno para indicar que es una fraccion\n",
    "    tolerancia += \"1\"\n",
    "    #convertimos a flotante para poder operar\n",
    "    return float(tolerancia)\n",
    "\"\"\"\n",
    "    x: recibe un valor cercano a la raiz que se busca aproximar\n",
    "    tolerancia: 0 < Numero < 1 que indica el intervalo de corte de la funcion ej: 0.0001 (como minimo3 deciamles exactos)\n",
    "    f: funcion de tipo numerica\n",
    "\"\"\"\n",
    "def aproximar_raiz_newton_secante(x,tolerancia,f):\n",
    "    symbol = sp.symbols(\"x\")\n",
    "    #instanciamos derivada de la funcion\n",
    "    f1 = sp.lambdify(symbol,sp.diff(f(symbol)),np)\n",
    "    #anidamos funcion para poder utilizar variables no locales\n",
    "    def secante():\n",
    "        try:\n",
    "            return x1 - ((f(x1)*(x1-x))/(f(x1)-f(x)))\n",
    "        except ZeroDivisionError:\n",
    "            print(f\"error: f({x}) = 0, no se puede dividir por 0\")\n",
    "            exit(6)\n",
    "    #------------------------- fin secante ----------------------------------    \n",
    "    while(True):    \n",
    "        try:\n",
    "            x1 = x - (f(x)/f1(x))\n",
    "        except ZeroDivisionError:\n",
    "            print(f\"error: f'({x}) = 0, no se puede dividir por 0\")\n",
    "            exit(6)\n",
    "        if (abs(x-x1) <= tolerancia):\n",
    "            break\n",
    "        x = secante()\n",
    "    return (x1)"
   ]
  },
  {
   "cell_type": "code",
   "execution_count": 5,
   "metadata": {},
   "outputs": [],
   "source": [
    "##Polinomio de larange\n",
    "def lagrange_interpolation(points):\n",
    "    n = len(points)\n",
    "    polynomial = []\n",
    "    for i in range(n):\n",
    "        term = []\n",
    "        numerator = []\n",
    "        denominator = []\n",
    "        for j in range(n):\n",
    "            if i != j:\n",
    "                numerator.append('(x - {})'.format(points[j][0]))\n",
    "                denominator.append('({} - {})'.format(points[i][0], points[j][0]))\n",
    "        term.append('*'.join(numerator))\n",
    "        term.append('/'.join(denominator))\n",
    "        polynomial.append('*'.join(term))\n",
    "    polynomial = '+'.join(polynomial)\n",
    "    polynomial = sp.expand(polynomial)\n",
    "    x =  sp.symbols(\"x\")\n",
    "    return sp.lambdify(x,polynomial,\"numpy\")"
   ]
  },
  {
   "cell_type": "code",
   "execution_count": 6,
   "metadata": {},
   "outputs": [
    {
     "data": {
      "text/plain": [
       "array([[ 2, -3],\n",
       "       [ 1, -1],\n",
       "       [-1,  5],\n",
       "       [-2,  7],\n",
       "       [-3,  9]])"
      ]
     },
     "execution_count": 6,
     "metadata": {},
     "output_type": "execute_result"
    }
   ],
   "source": [
    "lista_puntos = np.array([(2,-3),(1,-1),(-1,5),(-2,7),(-3,9)]) #ACA CARGAR LOS PUNTOS DEL PARCIAL\n",
    "lista_puntos"
   ]
  },
  {
   "cell_type": "code",
   "execution_count": 7,
   "metadata": {},
   "outputs": [
    {
     "name": "stdout",
     "output_type": "stream",
     "text": [
      "El polinomio generado es el siguiente: \n"
     ]
    },
    {
     "data": {
      "text/latex": [
       "$\\displaystyle - 2.0 x + \\left(0.05 x - 0.1\\right) \\left(x - 1\\right) \\left(x + 1\\right) \\left(x + 2\\right) + \\left(0.1667 x - 0.3334\\right) \\left(x - 1\\right) \\left(x + 1\\right) + \\left(0.3333 x - 0.6666\\right) \\left(x - 1\\right) + 1.0$"
      ],
      "text/plain": [
       "-2.0*x + (0.05*x - 0.1)*(x - 1)*(x + 1)*(x + 2) + (0.1667*x - 0.3334)*(x - 1)*(x + 1) + (0.3333*x - 0.6666)*(x - 1) + 1.0"
      ]
     },
     "execution_count": 7,
     "metadata": {},
     "output_type": "execute_result"
    }
   ],
   "source": [
    "poliNewton = NEquation(lista_puntos)\n",
    "print(\"El polinomio generado es el siguiente: \")\n",
    "poliNewton.imprimirEcuacion()"
   ]
  },
  {
   "cell_type": "code",
   "execution_count": 8,
   "metadata": {},
   "outputs": [
    {
     "name": "stdout",
     "output_type": "stream",
     "text": [
      "El grado del polinomio obtendio es: 4\n"
     ]
    }
   ],
   "source": [
    "gradoPolinomio = testeoGrado(lista_puntos, poliNewton.imprimirEcuacion())\n",
    "print(f\"El grado del polinomio obtendio es: {gradoPolinomio}\")"
   ]
  },
  {
   "cell_type": "code",
   "execution_count": 9,
   "metadata": {},
   "outputs": [
    {
     "data": {
      "image/png": "[encoded data removed]",
      "text/plain": [
       "<Figure size 640x480 with 1 Axes>"
      ]
     },
     "metadata": {},
     "output_type": "display_data"
    }
   ],
   "source": [
    "PUNTOS_X =[punto[0] for punto in lista_puntos]\n",
    "PUNTOS_Y = [punto[1] for punto in lista_puntos]\n",
    "graficar(PUNTOS_X, PUNTOS_Y, poliNewton.equation(), \"Grafica del polinomio generado\")"
   ]
  },
  {
   "cell_type": "code",
   "execution_count": 12,
   "metadata": {},
   "outputs": [
    {
     "data": {
      "text/plain": [
       "3.1688103210532526"
      ]
     },
     "execution_count": 12,
     "metadata": {},
     "output_type": "execute_result"
    }
   ],
   "source": [
    "\n",
    "RAIZ = aproximar_raiz_newton_secante(3,Presicion.presicionActualEnDecimal(),poliNewton.equation())\n",
    "RAIZ"
   ]
  },
  {
   "cell_type": "code",
   "execution_count": null,
   "metadata": {},
   "outputs": [],
   "source": [
    "#     ##generacion de simbolo para todas las funciones\n",
    "#     symbol = sp.symbols(\"x\")\n",
    "#     #---------------------------------------------------------------------------------\n",
    "#     saltosDeLinea(2)\n",
    "#     print(\"POLINOMIO CON X ORDENADO DE MENOR A MAYOR = POL1\")\n",
    "#     saltosDeLinea(2)\n",
    "#     print(\"puntos generados aleatoriamente ordenados segun x de menor a mayor:\")\n",
    "#     print(lista_puntos)\n",
    "#     ##calulo de polinomio generado por puntos ordenados segun x de menor a mayor\n",
    "#     saltosDeLinea(2)\n",
    "#     poli_newton_asc = nEquation(lista_puntos)\n",
    "#     print(\"Polinomio generado:\")\n",
    "\n",
    "#     simbolic_poli_newton_asc = sp.simplify(poli_newton_asc(symbol))\n",
    "#     print(simbolic_poli_newton_asc)\n",
    "\n",
    "\n",
    "#     #grafico de la funcion con sus respectivos puntos\n",
    "#     saltosDeLinea(2)\n",
    "#     PUNTOS_X_ASC =[punto[0] for punto in lista_puntos]\n",
    "#     PUNTOS_Y_ASC = [punto[1] for punto in lista_puntos]\n",
    "#     grafico(PUNTOS_X_ASC,PUNTOS_Y_ASC,poli_newton_asc,\"Grafico del polinomio generado con x ordenado de < a >\")\n",
    "#     saltosDeLinea(2)\n",
    "\n",
    "\n",
    "#     print(\"Busqueda de una raiz del POL1 con metood de newton-rapson\")\n",
    "#     RAIZ = aproximar_raiz_newton_secante(3,0.001,poli_newton_asc)\n",
    "#     print(f\"raiz aproximada con el metodo {decimal_truncate(RAIZ,3)}\")\n",
    "#     #---------------------------------------------------------------------------------\n",
    "#     saltosDeLinea(2)\n",
    "#     print(\"POLINOMIO CON X ORDENADO DE MENOR A MAYOR = POL2\")\n",
    "#     ##calulo de polinomio generado por puntos ordenados segun x de menor a mayor\n",
    "#     saltosDeLinea(2)\n",
    "#     print(\"puntos generados aleatoriamente ordenados segun x de mayor a menor:\")\n",
    "#     print(lista_puntos_desc)\n",
    "#     saltosDeLinea(2)\n",
    "#     poli_newton_dec = nEquation(lista_puntos_desc)\n",
    "#     print(\"Polinomio generado:\")\n",
    "#     simbolic_poli_newton_dec = sp.simplify(poli_newton_dec(symbol))\n",
    "#     print(simbolic_poli_newton_dec)\n",
    "#     ##Testeo de grado del polinomio ordenado por x\n",
    "#     saltosDeLinea(1)\n",
    "#     testeoGrado(cantPuntos=len(lista_puntos_desc),FuncNewton=poli_newton_dec)\n",
    "#     #grafico de la funcion con sus respectivos puntos\n",
    "#     saltosDeLinea(2)\n",
    "#     PUNTOS_X_ASC =[punto[0] for punto in lista_puntos_desc]\n",
    "#     PUNTOS_Y_ASC = [punto[1] for punto in lista_puntos_desc]\n",
    "#     grafico(PUNTOS_X_ASC,PUNTOS_Y_ASC,poli_newton_dec,\"Grafico del polinomio generado con x ordenado de > a <\")\n",
    "#     saltosDeLinea(1)\n",
    "#     print(\"podemos observar que el grado del polinomio encontrado es igual al anterior:\")\n",
    "#     print(f\"grdPOL1({sp.degree(simbolic_poli_newton_asc)}) = grdPOL2 = {sp.degree(simbolic_poli_newton_dec)}\")\n",
    "#     saltosDeLinea(1)\n",
    "#     print(f\"para saber si dos polinomios son iguales estos tienen que serlo en grado y coeficiente a coeficiente\")\n",
    "#     print(f\"------------------------------ Comparacion visual de polinomios ------------------------------\")\n",
    "#     print(\"POL1\")\n",
    "#     print(simbolic_poli_newton_asc)\n",
    "#     print(\"POL2\")\n",
    "#     print(simbolic_poli_newton_dec)\n",
    "#     print (f\"se puede observar que los polinomios son iguales, pero por razones de diferencias de aproximacion numerica difieren en los ultimos decimales\")\n",
    "#    #---------------------------------------------------------------------------------\n",
    "#     saltosDeLinea(2)\n",
    "#     print(\"POLINOMIO CON LOS PUNTOS DESORDENADOS = POL3\")\n",
    "#     ##calulo de polinomio generado por puntos ordenados segun x de menor a mayor\n",
    "#     saltosDeLinea(2)\n",
    "#     print(\"puntos generados aleatoriamente desordenados:\")\n",
    "#     print(lista_puntos)\n",
    "#     saltosDeLinea(2)\n",
    "#     poli_newton_desor = nEquation(lista_puntos)\n",
    "#     print(\"Polinomio generado:\")\n",
    "#     simbolic_poli_newton_desor = sp.simplify(poli_newton_desor(symbol))\n",
    "#     print(simbolic_poli_newton_desor)\n",
    "#     ##Testeo de grado del polinomio ordenado por x\n",
    "#     saltosDeLinea(1)\n",
    "#     testeoGrado(cantPuntos=len(lista_puntos),FuncNewton=poli_newton_desor)\n",
    "#     #grafico de la funcion con sus respectivos puntos\n",
    "#     saltosDeLinea(2)\n",
    "#     PUNTOS_X_ASC =[punto[0] for punto in lista_puntos]\n",
    "#     PUNTOS_Y_ASC = [punto[1] for punto in lista_puntos]\n",
    "#     grafico(PUNTOS_X_ASC,PUNTOS_Y_ASC,poli_newton_desor,\"Grafico del polinomio generado con x desordenado\")\n",
    "#     saltosDeLinea(1)\n",
    "#     print(\"podemos observar que el grado del polinomio encontrado es igual al anterior:\")\n",
    "#     print(f\"grdPOL1({sp.degree(simbolic_poli_newton_asc)}) = grdPOL3 = {sp.degree(simbolic_poli_newton_desor)}\")\n",
    "#     saltosDeLinea(1)\n",
    "#     print(f\"para saber si dos polinomios son iguales estos tienen que serlo en grado y coeficiente a coeficiente\")\n",
    "#     print(f\"------------------------------ Comparacion visual de polinomios ------------------------------\")\n",
    "#     print(\"POL1\")\n",
    "#     print(simbolic_poli_newton_asc)\n",
    "#     print(\"POL3\")\n",
    "#     print(simbolic_poli_newton_desor)\n",
    "#     print (f\"se puede observar que los polinomios son iguales, pero por razones de diferencias de aproximacion numerica difieren en los ultimos decimales\")\n",
    "#     #---------------------------------------------------------------------------------\n",
    "#     saltosDeLinea(2)\n",
    "#     print(\"POLINOMIO INTERPOLADOR DE LARANGE\")\n",
    "#     saltosDeLinea(2)\n",
    "#     print(\"utilizamos mismos puntos que en el metodo de newton:\")\n",
    "#     print(lista_puntos)\n",
    "#     saltosDeLinea(2)\n",
    "#     print(\"Polinomio generado:\")\n",
    "#     poli_larange = lagrange_interpolation(lista_puntos)\n",
    "#     simbolic_poli_laragne = sp.sympify(poli_larange(symbol))\n",
    "#     print(simbolic_poli_laragne)\n",
    "#     saltosDeLinea(2)\n",
    "#     print(\"-------------------------------- Concluciones --------------------------------\")\n",
    "#     print(\"\"\"Se puede ver que el metodo de larange tambien genera un polinomio de grado teorico\n",
    "#     (cantidad de puntos - 1) pero es diferente en coeficientes\"\"\")\n",
    "#     print(\"\\n---------------------------------------------------------------------------------------\\n\")\n",
    "#     print(\"\"\"El metodo de larange es más fácil de entender y aplicar que el método de Newton, pero puede ser menos \n",
    "#     eficiente en términos computacionales cuando se tienen muchos puntos\"\"\")\n",
    "#     print(\"\\n---------------------------------------------------------------------------------------\\n\")\n",
    "#     print(\"\"\"ambos métodos son útiles para aproximar una función a través de un polinomio interpolador. \n",
    "#     La elección del método dependerá del número de puntos disponibles y la eficiencia computacional requerida.\"\"\")"
   ]
  }
 ],
 "metadata": {
  "kernelspec": {
   "display_name": "Python 3.10.7 64-bit",
   "language": "python",
   "name": "python3"
  },
  "language_info": {
   "codemirror_mode": {
    "name": "ipython",
    "version": 3
   },
   "file_extension": ".py",
   "mimetype": "text/x-python",
   "name": "python",
   "nbconvert_exporter": "python",
   "pygments_lexer": "ipython3",
   "version": "3.10.7"
  },
  "orig_nbformat": 4,
  "vscode": {
   "interpreter": {
    "hash": "bb63a77499ed5899fffa71b49f0fc3f4df2c625891c3993c985b13a523c87e61"
   }
  }
 },
 "nbformat": 4,
 "nbformat_minor": 2
}
