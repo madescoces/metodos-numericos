{
 "cells": [
  {
   "cell_type": "code",
   "execution_count": 4,
   "metadata": {},
   "outputs": [],
   "source": [
    "from helpers import *"
   ]
  },
  {
   "cell_type": "code",
   "execution_count": 5,
   "metadata": {},
   "outputs": [],
   "source": [
    "%run \"./codigo_interpolador.ipynb\""
   ]
  },
  {
   "cell_type": "code",
   "execution_count": 9,
   "metadata": {},
   "outputs": [
    {
     "name": "stdout",
     "output_type": "stream",
     "text": [
      "\n",
      "\t\t█ █ █ █ █ █ █ █ █ █ █ █ █ █ █ █ █ █ █ █ █ █ █ █ █ █ █ █ █ █ █ █ █ █ █ █ █ █ █ █ █ █ █ █ █ █ █ █ █ █ \n",
      "\t\t█ █ █                                                                                         █ █ █ \n",
      "\t\t█ █ █                              Método interpolador de Newton                              █ █ █ \n",
      "\t\t█ █ █                                                                                         █ █ █ \n",
      "\t\t█ █ █             Integrantes: Sol Lopez, Pablo Foglia, Juan Caceffo, Alejo Menini            █ █ █ \n",
      "\t\t█ █ █                                                                                         █ █ █ \n",
      "\t\t█ █ █ █ █ █ █ █ █ █ █ █ █ █ █ █ █ █ █ █ █ █ █ █ █ █ █ █ █ █ █ █ █ █ █ █ █ █ █ █ █ █ █ █ █ █ █ █ █ █ \n",
      "\n",
      "\n",
      "[(31.82646129192859, 63.19339947137971), (44.72378254231042, 30.235117888990022), (19.634021168969028, 57.56527498433814), (8.30952917927554, 24.90097180945927), (66.2612566700589, 20.977443966161882), (10.533412858069031, 29.78304793864323), (32.358818493718054, 39.971665897062394), (27.44541058190228, 61.2172560255841), (14.562784529280469, 50.831021294046685), (25.419275193568136, 19.952378638387547), (16.838667883316653, 61.88697930798829), (52.83490110749987, 61.5840147164224), (54.69310884825173, 54.113634530042766), (20.380411534002263, 40.47729482994729), (34.39931290066552, 4.948929362933352), (23.148597546300813, 14.787028661032902), (63.775397425553074, 15.796677722447589), (45.73100552168779, 31.70174760608374), (65.72762731187385, 15.811758184879615), (61.176381338696295, 13.54980230038324)]\n"
     ]
    }
   ],
   "source": [
    "def menu():\n",
    "    prLn(WIDTH,up=1,dw=1,lf=True)\n",
    "    prTxt(\"                                                               \",lf=True,col=3,dw=1)\n",
    "    prTxt(\"Método interpolador de Newton\",lf=True,col=3,dw=1)\n",
    "    prTxt(\"                                                               \",lf=True,col=3,dw=1)\n",
    "    prTxt(\"Integrantes: Sol Lopez, Pablo Foglia, Juan Caceffo, Alejo Menini\",lf=True,col=3,dw=1)\n",
    "    prTxt(\"                                                               \",lf=True,col=3)\n",
    "    prLn(WIDTH,up=1,dw=1,lf=True)\n",
    "    print()\n",
    "    print()\n",
    "\n",
    "menu()\n",
    "\n",
    "main()"
   ]
  }
 ],
 "metadata": {
  "kernelspec": {
   "display_name": "Python 3.10.7 64-bit",
   "language": "python",
   "name": "python3"
  },
  "language_info": {
   "codemirror_mode": {
    "name": "ipython",
    "version": 3
   },
   "file_extension": ".py",
   "mimetype": "text/x-python",
   "name": "python",
   "nbconvert_exporter": "python",
   "pygments_lexer": "ipython3",
   "version": "3.10.7"
  },
  "orig_nbformat": 4,
  "vscode": {
   "interpreter": {
    "hash": "bb63a77499ed5899fffa71b49f0fc3f4df2c625891c3993c985b13a523c87e61"
   }
  }
 },
 "nbformat": 4,
 "nbformat_minor": 2
}
