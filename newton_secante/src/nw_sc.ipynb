{
 "cells": [
  {
   "cell_type": "code",
   "execution_count": 4,
   "metadata": {},
   "outputs": [],
   "source": [
    "import matplotlib.pyplot as plt\n",
    "import sympy as sp\n",
    "import numpy as np"
   ]
  },
  {
   "cell_type": "code",
   "execution_count": 5,
   "metadata": {},
   "outputs": [],
   "source": [
    "x = sp.symbols('x')"
   ]
  },
  {
   "cell_type": "code",
   "execution_count": 6,
   "metadata": {},
   "outputs": [
    {
     "data": {
      "text/latex": [
       "$\\displaystyle \\frac{15 \\cos{\\left(2 x^{2} - x \\right)}}{x^{2}}$"
      ],
      "text/plain": [
       "15*cos(2*x**2 - x)/x**2"
      ]
     },
     "execution_count": 6,
     "metadata": {},
     "output_type": "execute_result"
    }
   ],
   "source": [
    "equation = 15*sp.cos(x - 2*x**2)/x**2#15*sp.cos(x - 2*x**2)/x**4 + 1/16\n",
    "equation\n",
    "# (x**3 * sp.sin(x)/x**sp.ln(x-2) + 1/2)*sp.cos(x)"
   ]
  },
  {
   "cell_type": "code",
   "execution_count": 7,
   "metadata": {},
   "outputs": [
    {
     "data": {
      "text/latex": [
       "$\\displaystyle - \\frac{15 \\cdot \\left(4 x - 1\\right) \\sin{\\left(2 x^{2} - x \\right)}}{x^{2}} - \\frac{30 \\cos{\\left(2 x^{2} - x \\right)}}{x^{3}}$"
      ],
      "text/plain": [
       "-15*(4*x - 1)*sin(2*x**2 - x)/x**2 - 30*cos(2*x**2 - x)/x**3"
      ]
     },
     "execution_count": 7,
     "metadata": {},
     "output_type": "execute_result"
    }
   ],
   "source": [
    "derivate = sp.diff(equation, x)\n",
    "derivate\n",
    "\n"
   ]
  },
  {
   "cell_type": "code",
   "execution_count": 8,
   "metadata": {},
   "outputs": [],
   "source": [
    "f = sp.lambdify(x, equation, 'numpy')"
   ]
  },
  {
   "cell_type": "code",
   "execution_count": 9,
   "metadata": {},
   "outputs": [
    {
     "data": {
      "text/plain": [
       "<function _lambdifygenerated(x)>"
      ]
     },
     "execution_count": 9,
     "metadata": {},
     "output_type": "execute_result"
    }
   ],
   "source": [
    "f"
   ]
  },
  {
   "cell_type": "code",
   "execution_count": 10,
   "metadata": {},
   "outputs": [],
   "source": [
    "#fp = sp.lambdify(x, derivate, 'numpy')"
   ]
  },
  {
   "cell_type": "code",
   "execution_count": 11,
   "metadata": {},
   "outputs": [],
   "source": [
    "x_vals = np.linspace(-100, 100, 20000)  # Rango de -10 a 10 con 100 puntos"
   ]
  },
  {
   "cell_type": "code",
   "execution_count": 12,
   "metadata": {},
   "outputs": [],
   "source": [
    "y_vals = f(x_vals)"
   ]
  },
  {
   "cell_type": "code",
   "execution_count": 13,
   "metadata": {},
   "outputs": [
    {
     "data": {
      "image/png": "[encoded data removed]",
      "text/plain": [
       "<Figure size 640x480 with 1 Axes>"
      ]
     },
     "metadata": {},
     "output_type": "display_data"
    }
   ],
   "source": [
    "plt.plot(x_vals, y_vals)\n",
    "plt.xlabel('x')\n",
    "plt.ylabel('f(x)')\n",
    "plt.title('manzana')\n",
    "plt.grid(True)\n",
    "plt.show()"
   ]
  },
  {
   "cell_type": "code",
   "execution_count": 14,
   "metadata": {},
   "outputs": [
    {
     "data": {
      "text/plain": [
       "15.708232821378072"
      ]
     },
     "execution_count": 14,
     "metadata": {},
     "output_type": "execute_result"
    }
   ],
   "source": [
    "numInicial = np.random.uniform(0, 40)\n",
    "numInicial"
   ]
  },
  {
   "cell_type": "code",
   "execution_count": 15,
   "metadata": {},
   "outputs": [],
   "source": [
    "def newton_method_step(f, f_prime, x0):\n",
    "    \"\"\"\n",
    "    Método de Newton para encontrar la raíz de una función.\n",
    "    \n",
    "    Args:\n",
    "        f: La función para la cual se busca la raíz.\n",
    "        f_prime: La derivada de la función.\n",
    "        x0: El punto inicial.\n",
    "    \n",
    "    Returns:\n",
    "        La aproximación de la raíz encontrada.\n",
    "    \"\"\"\n",
    "    x_next = x0 - f(x0) / f_prime(x0)\n",
    "    return x_next"
   ]
  },
  {
   "cell_type": "code",
   "execution_count": 16,
   "metadata": {},
   "outputs": [],
   "source": [
    "def secante():\n",
    "    try:\n",
    "        return x1 - ((f(x1)*(x1-x))/(f(x1)-f(x)))\n",
    "    except ZeroDivisionError:\n",
    "        pass\n"
   ]
  },
  {
   "cell_type": "code",
   "execution_count": 17,
   "metadata": {},
   "outputs": [],
   "source": [
    "def secant_method_step(f, x0, x1):\n",
    "    \"\"\"\n",
    "    Realiza un solo paso del método de la secante.\n",
    "    \n",
    "    Args:\n",
    "        f: La función para la cual se busca la raíz.\n",
    "        x0: El primer punto inicial.\n",
    "        x1: El segundo punto inicial.\n",
    "    \n",
    "    Returns:\n",
    "        La siguiente aproximación de la raíz.\n",
    "    \"\"\"\n",
    "    x_next = x1 - f(x1) * (x1 - x0) / (f(x1) - f(x0))\n",
    "    return x_next"
   ]
  },
  {
   "cell_type": "code",
   "execution_count": 18,
   "metadata": {},
   "outputs": [
    {
     "name": "stdout",
     "output_type": "stream",
     "text": [
      "Matrix([[1, 2, 3], [4, 5, 6], [7, 8, 9]])\n"
     ]
    }
   ],
   "source": [
    "matriz = sp.Matrix([[1, 2, 3], [4, 5, 6], [7, 8, 9]])\n",
    "print(matriz)"
   ]
  },
  {
   "cell_type": "code",
   "execution_count": null,
   "metadata": {},
   "outputs": [],
   "source": []
  }
 ],
 "metadata": {
  "kernelspec": {
   "display_name": "Python 3.10.7 64-bit",
   "language": "python",
   "name": "python3"
  },
  "language_info": {
   "codemirror_mode": {
    "name": "ipython",
    "version": 3
   },
   "file_extension": ".py",
   "mimetype": "text/x-python",
   "name": "python",
   "nbconvert_exporter": "python",
   "pygments_lexer": "ipython3",
   "version": "3.10.7"
  },
  "orig_nbformat": 4,
  "vscode": {
   "interpreter": {
    "hash": "bb63a77499ed5899fffa71b49f0fc3f4df2c625891c3993c985b13a523c87e61"
   }
  }
 },
 "nbformat": 4,
 "nbformat_minor": 2
}
